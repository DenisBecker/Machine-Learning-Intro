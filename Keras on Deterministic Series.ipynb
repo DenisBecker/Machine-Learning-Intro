{
 "cells": [
  {
   "cell_type": "markdown",
   "metadata": {},
   "source": [
    "# Introduction to Keras - A simple deterministic process"
   ]
  },
  {
   "cell_type": "markdown",
   "metadata": {},
   "source": [
    "We start with loading the necessary packages."
   ]
  },
  {
   "cell_type": "code",
   "execution_count": 2,
   "metadata": {},
   "outputs": [],
   "source": [
    "import numpy as np\n",
    "from keras.models import Sequential\n",
    "from keras.layers import Dense"
   ]
  },
  {
   "cell_type": "markdown",
   "metadata": {},
   "source": [
    "I will generate a series that repeats a particular sequence of numbers. This sequence is the following."
   ]
  },
  {
   "cell_type": "code",
   "execution_count": 3,
   "metadata": {},
   "outputs": [
    {
     "name": "stdout",
     "output_type": "stream",
     "text": [
      "[4 3 5 1 2]\n"
     ]
    }
   ],
   "source": [
    "Series000=np.array([4,3,5,1,2])\n",
    "print(Series000)"
   ]
  },
  {
   "cell_type": "code",
   "execution_count": 4,
   "metadata": {},
   "outputs": [
    {
     "name": "stdout",
     "output_type": "stream",
     "text": [
      "The head of the series is [4 3 5 1 2 4]\n",
      "The tail of the series is [2 4 3 5 1 2]\n",
      "The length of the series is 505\n"
     ]
    }
   ],
   "source": [
    "Series = Series000\n",
    "for n in range(100):\n",
    "    Series = np.append(Series, Series000)\n",
    "\n",
    "print(\"The head of the series is\", Series[:6,])\n",
    "print(\"The tail of the series is\", Series[-6:,])\n",
    "\n",
    "print(\"The length of the series is\", len(Series))"
   ]
  },
  {
   "cell_type": "markdown",
   "metadata": {},
   "source": [
    "We will now define the independent variable (X) and the dependent variable (Y).\n",
    "X(i) represents the present observation and Y(i) represents the next observation."
   ]
  },
  {
   "cell_type": "code",
   "execution_count": 5,
   "metadata": {},
   "outputs": [
    {
     "name": "stdout",
     "output_type": "stream",
     "text": [
      "X starts [4 3 5 1 2 4]\n",
      "Y starts [3 5 1 2 4 3]\n",
      "The length of X 504\n",
      "The length of Y 504\n"
     ]
    }
   ],
   "source": [
    "X=Series[:-1]\n",
    "Y=Series[1:]\n",
    "\n",
    "print(\"X starts\", X[:6,])\n",
    "print(\"Y starts\", Y[:6,])\n",
    "\n",
    "print(\"The length of X\", len(X))\n",
    "print(\"The length of Y\", len(Y))\n"
   ]
  },
  {
   "cell_type": "markdown",
   "metadata": {},
   "source": [
    "In the following, we will generate the neural network model."
   ]
  },
  {
   "cell_type": "code",
   "execution_count": 6,
   "metadata": {},
   "outputs": [],
   "source": [
    "model = Sequential([\n",
    "    Dense(units=16, input_shape=(1,), activation='relu'),\n",
    "    Dense(units=32, activation='relu'),\n",
    "    Dense(units=1, activation='linear')\n",
    "])"
   ]
  },
  {
   "cell_type": "markdown",
   "metadata": {},
   "source": [
    "The activation function in the last layer needs to maintain the charcteristics of the desired output. Here we are interested in numbers 1, 2, 3, 4, 5.\n",
    "We could use relu or linear. However, we cannot use sigmoid because the output would be between 0 and 1.\n",
    "Laterwe will learn how to scale/rescale input and output data."
   ]
  },
  {
   "cell_type": "markdown",
   "metadata": {},
   "source": [
    "In the following line, do not forget the parantheses after `summary()`."
   ]
  },
  {
   "cell_type": "code",
   "execution_count": 7,
   "metadata": {},
   "outputs": [
    {
     "name": "stdout",
     "output_type": "stream",
     "text": [
      "Model: \"sequential_1\"\n",
      "_________________________________________________________________\n",
      "Layer (type)                 Output Shape              Param #   \n",
      "=================================================================\n",
      "dense_1 (Dense)              (None, 16)                32        \n",
      "_________________________________________________________________\n",
      "dense_2 (Dense)              (None, 32)                544       \n",
      "_________________________________________________________________\n",
      "dense_3 (Dense)              (None, 1)                 33        \n",
      "=================================================================\n",
      "Total params: 609\n",
      "Trainable params: 609\n",
      "Non-trainable params: 0\n",
      "_________________________________________________________________\n"
     ]
    }
   ],
   "source": [
    "model.summary()"
   ]
  },
  {
   "cell_type": "code",
   "execution_count": 8,
   "metadata": {},
   "outputs": [],
   "source": [
    "model.compile(optimizer='adam', loss='mean_squared_error', metrics=['accuracy'])"
   ]
  },
  {
   "cell_type": "code",
   "execution_count": 10,
   "metadata": {},
   "outputs": [
    {
     "name": "stdout",
     "output_type": "stream",
     "text": [
      "Epoch 1/10\n",
      "504/504 [==============================] - 0s 728us/step - loss: 0.0074 - accuracy: 1.0000\n",
      "Epoch 2/10\n",
      "504/504 [==============================] - 0s 732us/step - loss: 9.9678e-04 - accuracy: 1.0000\n",
      "Epoch 3/10\n",
      "504/504 [==============================] - 0s 718us/step - loss: 6.6724e-05 - accuracy: 1.0000\n",
      "Epoch 4/10\n",
      "504/504 [==============================] - 0s 752us/step - loss: 2.1226e-06 - accuracy: 1.0000\n",
      "Epoch 5/10\n",
      "504/504 [==============================] - 0s 669us/step - loss: 2.7717e-08 - accuracy: 1.0000\n",
      "Epoch 6/10\n",
      "504/504 [==============================] - 0s 658us/step - loss: 4.1888e-10 - accuracy: 1.0000\n",
      "Epoch 7/10\n",
      "504/504 [==============================] - 0s 668us/step - loss: 6.0246e-11 - accuracy: 1.0000\n",
      "Epoch 8/10\n",
      "504/504 [==============================] - 0s 695us/step - loss: 1.6507e-13 - accuracy: 1.00000s - loss: 1.6133e-13 - accu\n",
      "Epoch 9/10\n",
      "504/504 [==============================] - 0s 671us/step - loss: 1.3730e-13 - accuracy: 1.0000\n",
      "Epoch 10/10\n",
      "504/504 [==============================] - 0s 695us/step - loss: 0.0000e+00 - accuracy: 1.0000\n"
     ]
    },
    {
     "data": {
      "text/plain": [
       "<keras.callbacks.callbacks.History at 0x23345b4ae88>"
      ]
     },
     "execution_count": 10,
     "metadata": {},
     "output_type": "execute_result"
    }
   ],
   "source": [
    "model.fit(X, Y, epochs=10, batch_size=1)"
   ]
  },
  {
   "cell_type": "markdown",
   "metadata": {},
   "source": [
    "We do not really need many epochs for this simple time series.\n",
    "The loss is Zero and the Accurasy is 100% after few epochs.\n",
    "\n",
    "**By the way:** Try to run the previos code, i. e. `model.fit` one more time. What do you recognize?"
   ]
  },
  {
   "cell_type": "markdown",
   "metadata": {},
   "source": [
    "Let us now evaluate the model. I will generate a new series from the original series.\n",
    "More precisely, I will cut out a random piece from the series above.\n",
    "First I will import a new library."
   ]
  },
  {
   "cell_type": "code",
   "execution_count": 11,
   "metadata": {},
   "outputs": [],
   "source": [
    "from random import randint"
   ]
  },
  {
   "cell_type": "code",
   "execution_count": 12,
   "metadata": {},
   "outputs": [
    {
     "name": "stdout",
     "output_type": "stream",
     "text": [
      "[4 3 5 1 2 4 3 5 1]\n",
      "[3 5 1 2 4 3 5 1 2]\n"
     ]
    }
   ],
   "source": [
    "start=randint(0,len(Series)-10)\n",
    "NewSeries=Series[start:start+10]\n",
    "NewX=NewSeries[0:-1]\n",
    "NewY=NewSeries[1:]\n",
    "print(NewX)\n",
    "print(NewY)"
   ]
  },
  {
   "cell_type": "code",
   "execution_count": 13,
   "metadata": {},
   "outputs": [
    {
     "name": "stdout",
     "output_type": "stream",
     "text": [
      "9/9 [==============================] - 0s 2ms/step\n",
      "Accuracy: 100.00\n"
     ]
    }
   ],
   "source": [
    "_, accuracy = model.evaluate(NewX, NewY)\n",
    "print('Accuracy: %.2f' % (accuracy*100))"
   ]
  },
  {
   "cell_type": "markdown",
   "metadata": {},
   "source": [
    "Now let us look at the predictions of this model.\n",
    "We will make the predictions based on `NewX`. We know from the accuracy before, that we should make correct predictions."
   ]
  },
  {
   "cell_type": "code",
   "execution_count": 14,
   "metadata": {},
   "outputs": [
    {
     "name": "stdout",
     "output_type": "stream",
     "text": [
      "[[2.9999995 ]\n",
      " [5.        ]\n",
      " [0.99999976]\n",
      " [2.0000002 ]\n",
      " [3.9999998 ]\n",
      " [2.9999995 ]\n",
      " [5.        ]\n",
      " [0.99999976]\n",
      " [2.        ]]\n"
     ]
    }
   ],
   "source": [
    "PredictY = model.predict(NewX)\n",
    "print(PredictY)"
   ]
  },
  {
   "cell_type": "markdown",
   "metadata": {},
   "source": [
    "As we see, we should round the numbers:"
   ]
  },
  {
   "cell_type": "code",
   "execution_count": 15,
   "metadata": {},
   "outputs": [
    {
     "name": "stdout",
     "output_type": "stream",
     "text": [
      "[[3.]\n",
      " [5.]\n",
      " [1.]\n",
      " [2.]\n",
      " [4.]\n",
      " [3.]\n",
      " [5.]\n",
      " [1.]\n",
      " [2.]]\n"
     ]
    }
   ],
   "source": [
    "PredictY=np.round(PredictY,0)\n",
    "print(PredictY)"
   ]
  },
  {
   "cell_type": "markdown",
   "metadata": {},
   "source": [
    "Let us also compare the predictions with the true observations."
   ]
  },
  {
   "cell_type": "code",
   "execution_count": 16,
   "metadata": {},
   "outputs": [
    {
     "name": "stdout",
     "output_type": "stream",
     "text": [
      "3 => 3\n",
      "5 => 5\n",
      "1 => 1\n",
      "2 => 2\n",
      "4 => 4\n",
      "3 => 3\n",
      "5 => 5\n",
      "1 => 1\n",
      "2 => 2\n"
     ]
    }
   ],
   "source": [
    "for i in range(len(PredictY)):\n",
    "\tprint('%s => %d' % (NewY[i], PredictY[i]))"
   ]
  },
  {
   "cell_type": "markdown",
   "metadata": {},
   "source": [
    "## What is next?\n",
    "\n",
    "1. We should add some noise to this time series.\n",
    "1. We should add some non-linearity to this time series.\n",
    "1. How about considering an autoregressive pocesses.\n",
    "1. We should also look at scaling/rescaling.\n",
    "1. We should go into separating data into training and test data."
   ]
  },
  {
   "cell_type": "markdown",
   "metadata": {},
   "source": [
    "# END"
   ]
  }
 ],
 "metadata": {
  "kernelspec": {
   "display_name": "Python 3",
   "language": "python",
   "name": "python3"
  },
  "language_info": {
   "codemirror_mode": {
    "name": "ipython",
    "version": 3
   },
   "file_extension": ".py",
   "mimetype": "text/x-python",
   "name": "python",
   "nbconvert_exporter": "python",
   "pygments_lexer": "ipython3",
   "version": "3.7.4"
  }
 },
 "nbformat": 4,
 "nbformat_minor": 4
}
