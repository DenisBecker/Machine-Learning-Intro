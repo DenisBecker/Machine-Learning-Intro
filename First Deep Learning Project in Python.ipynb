{
 "cells": [
  {
   "cell_type": "markdown",
   "metadata": {},
   "source": [
    "# First Deep Learning Project in Python "
   ]
  },
  {
   "cell_type": "markdown",
   "metadata": {},
   "source": [
    "This example is a short version of **[Your First Deep Learning Project in Python with Keras Step-By-Step](https://machinelearningmastery.com/tutorial-first-neural-network-python-keras/)** by Jason Brownlee."
   ]
  },
  {
   "cell_type": "markdown",
   "metadata": {},
   "source": [
    "We start with loading the necessary packages."
   ]
  },
  {
   "cell_type": "code",
   "execution_count": 2,
   "metadata": {},
   "outputs": [],
   "source": [
    "from numpy import loadtxt\n",
    "from keras.models import Sequential\n",
    "from keras.layers import Dense"
   ]
  },
  {
   "cell_type": "markdown",
   "metadata": {},
   "source": [
    "Download the dataset and place it in your local working directory, the same location as your python file.\n",
    "Save it with the filename: pima-indians-diabetes.csv\n",
    "We will now load this dataset."
   ]
  },
  {
   "cell_type": "code",
   "execution_count": 4,
   "metadata": {},
   "outputs": [],
   "source": [
    "dataset = loadtxt('pima-indians-diabetes.csv', delimiter=',')\n",
    "# split into input (X) and output (y) variables"
   ]
  },
  {
   "cell_type": "markdown",
   "metadata": {},
   "source": [
    "Let us have a look at the beginning of the dataset:"
   ]
  },
  {
   "cell_type": "code",
   "execution_count": 5,
   "metadata": {},
   "outputs": [
    {
     "name": "stdout",
     "output_type": "stream",
     "text": [
      "[[  6.    148.     72.    ...   0.627  50.      1.   ]\n",
      " [  1.     85.     66.    ...   0.351  31.      0.   ]\n",
      " [  8.    183.     64.    ...   0.672  32.      1.   ]\n",
      " ...\n",
      " [  5.    121.     72.    ...   0.245  30.      0.   ]\n",
      " [  1.    126.     60.    ...   0.349  47.      1.   ]\n",
      " [  1.     93.     70.    ...   0.315  23.      0.   ]]\n"
     ]
    }
   ],
   "source": [
    "print(dataset)"
   ]
  },
  {
   "cell_type": "markdown",
   "metadata": {},
   "source": [
    "We can select the first 8 columns from index 0 to index 7 via the slice 0:8. We can then select the output column (the 9th variable) via index 8."
   ]
  },
  {
   "cell_type": "code",
   "execution_count": 6,
   "metadata": {},
   "outputs": [],
   "source": [
    "X = dataset[:,0:8]\n",
    "y = dataset[:,8]"
   ]
  },
  {
   "cell_type": "markdown",
   "metadata": {},
   "source": [
    "Let us have a look how this looks like:"
   ]
  },
  {
   "cell_type": "code",
   "execution_count": 7,
   "metadata": {},
   "outputs": [
    {
     "name": "stdout",
     "output_type": "stream",
     "text": [
      "The first five rows of X are\n",
      "[[  6.    148.     72.     35.      0.     33.6     0.627  50.   ]\n",
      " [  1.     85.     66.     29.      0.     26.6     0.351  31.   ]\n",
      " [  8.    183.     64.      0.      0.     23.3     0.672  32.   ]]\n",
      "The first three elements of y are [1. 0. 1.]\n"
     ]
    }
   ],
   "source": [
    "print(\"The first five rows of X are\")\n",
    "print(X[0:3,])\n",
    "print(\"The first three elements of y are\", y[0:3,])"
   ]
  },
  {
   "cell_type": "markdown",
   "metadata": {},
   "source": [
    "Fully connected layers are defined using the Dense class. We can specify the number of neurons or nodes in the layer as the first argument, and specify the activation function using the activation argument.\n",
    "We will use the rectified linear unit activation function referred to as ReLU on the first two layers and the Sigmoid function in the output layer.\n",
    "The model expects rows of data with 8 variables. Therefore the `input_dim` argument is set to 8."
   ]
  },
  {
   "cell_type": "code",
   "execution_count": 8,
   "metadata": {},
   "outputs": [],
   "source": [
    "model = Sequential()\n",
    "model.add(Dense(12, input_dim=8, activation='relu'))\n",
    "model.add(Dense(8, activation='relu'))\n",
    "model.add(Dense(1, activation='sigmoid'))"
   ]
  },
  {
   "cell_type": "markdown",
   "metadata": {},
   "source": [
    "Now that the model is defined, we can compile it.\n",
    "You can learn more about choosing loss functions based on your problem here: [How to Choose Loss Functions When Training Deep Learning Neural Networks](https://machinelearningmastery.com/how-to-choose-loss-functions-when-training-deep-learning-neural-networks/)."
   ]
  },
  {
   "cell_type": "code",
   "execution_count": 9,
   "metadata": {},
   "outputs": [
    {
     "name": "stdout",
     "output_type": "stream",
     "text": [
      "WARNING:tensorflow:From C:\\Users\\dennisb\\AppData\\Local\\Continuum\\anaconda3\\lib\\site-packages\\tensorflow\\python\\ops\\nn_impl.py:180: add_dispatch_support.<locals>.wrapper (from tensorflow.python.ops.array_ops) is deprecated and will be removed in a future version.\n",
      "Instructions for updating:\n",
      "Use tf.where in 2.0, which has the same broadcast rule as np.where\n"
     ]
    }
   ],
   "source": [
    "# compile the keras model\n",
    "model.compile(loss='binary_crossentropy', optimizer='adam', metrics=['accuracy'])"
   ]
  },
  {
   "cell_type": "markdown",
   "metadata": {},
   "source": [
    "Now we have the training process.\n",
    "If you receive an error in your IPython or Jupyter notebook, then the reason for this is the output progress bars during training. You can easily turn these off by setting `verbose=0`"
   ]
  },
  {
   "cell_type": "code",
   "execution_count": 10,
   "metadata": {},
   "outputs": [
    {
     "name": "stdout",
     "output_type": "stream",
     "text": [
      "WARNING:tensorflow:From C:\\Users\\dennisb\\AppData\\Local\\Continuum\\anaconda3\\lib\\site-packages\\keras\\backend\\tensorflow_backend.py:422: The name tf.global_variables is deprecated. Please use tf.compat.v1.global_variables instead.\n",
      "\n",
      "Epoch 1/150\n",
      "768/768 [==============================] - 0s 222us/step - loss: 17.6530 - accuracy: 0.5638\n",
      "Epoch 2/150\n",
      "768/768 [==============================] - 0s 77us/step - loss: 5.8497 - accuracy: 0.5456\n",
      "Epoch 3/150\n",
      "768/768 [==============================] - 0s 82us/step - loss: 1.3437 - accuracy: 0.5260\n",
      "Epoch 4/150\n",
      "768/768 [==============================] - 0s 82us/step - loss: 1.1034 - accuracy: 0.5677\n",
      "Epoch 5/150\n",
      "768/768 [==============================] - 0s 77us/step - loss: 0.9932 - accuracy: 0.5534\n",
      "Epoch 6/150\n",
      "768/768 [==============================] - 0s 86us/step - loss: 0.9425 - accuracy: 0.5911\n",
      "Epoch 7/150\n",
      "768/768 [==============================] - 0s 82us/step - loss: 0.8946 - accuracy: 0.6094\n",
      "Epoch 8/150\n",
      "768/768 [==============================] - 0s 79us/step - loss: 0.8256 - accuracy: 0.6172\n",
      "Epoch 9/150\n",
      "768/768 [==============================] - 0s 92us/step - loss: 0.8114 - accuracy: 0.6276\n",
      "Epoch 10/150\n",
      "768/768 [==============================] - 0s 92us/step - loss: 0.8055 - accuracy: 0.6354\n",
      "Epoch 11/150\n",
      "768/768 [==============================] - 0s 99us/step - loss: 0.7402 - accuracy: 0.6302\n",
      "Epoch 12/150\n",
      "768/768 [==============================] - 0s 92us/step - loss: 0.7163 - accuracy: 0.6576\n",
      "Epoch 13/150\n",
      "768/768 [==============================] - 0s 92us/step - loss: 0.7812 - accuracy: 0.6406\n",
      "Epoch 14/150\n",
      "768/768 [==============================] - 0s 96us/step - loss: 0.7069 - accuracy: 0.6641\n",
      "Epoch 15/150\n",
      "768/768 [==============================] - 0s 96us/step - loss: 0.7345 - accuracy: 0.6628\n",
      "Epoch 16/150\n",
      "768/768 [==============================] - 0s 96us/step - loss: 0.7298 - accuracy: 0.6471\n",
      "Epoch 17/150\n",
      "768/768 [==============================] - 0s 97us/step - loss: 0.6813 - accuracy: 0.6654\n",
      "Epoch 18/150\n",
      "768/768 [==============================] - 0s 97us/step - loss: 0.7021 - accuracy: 0.6536\n",
      "Epoch 19/150\n",
      "768/768 [==============================] - 0s 95us/step - loss: 0.6855 - accuracy: 0.6602\n",
      "Epoch 20/150\n",
      "768/768 [==============================] - 0s 101us/step - loss: 0.7065 - accuracy: 0.6654\n",
      "Epoch 21/150\n",
      "768/768 [==============================] - 0s 92us/step - loss: 0.7045 - accuracy: 0.6641\n",
      "Epoch 22/150\n",
      "768/768 [==============================] - 0s 82us/step - loss: 0.6599 - accuracy: 0.6719\n",
      "Epoch 23/150\n",
      "768/768 [==============================] - 0s 75us/step - loss: 0.6551 - accuracy: 0.6654\n",
      "Epoch 24/150\n",
      "768/768 [==============================] - 0s 87us/step - loss: 0.6585 - accuracy: 0.6875\n",
      "Epoch 25/150\n",
      "768/768 [==============================] - 0s 91us/step - loss: 0.6546 - accuracy: 0.6654\n",
      "Epoch 26/150\n",
      "768/768 [==============================] - 0s 87us/step - loss: 0.6639 - accuracy: 0.6836\n",
      "Epoch 27/150\n",
      "768/768 [==============================] - 0s 84us/step - loss: 0.6540 - accuracy: 0.6576\n",
      "Epoch 28/150\n",
      "768/768 [==============================] - 0s 82us/step - loss: 0.6345 - accuracy: 0.6706\n",
      "Epoch 29/150\n",
      "768/768 [==============================] - 0s 100us/step - loss: 0.6280 - accuracy: 0.6901\n",
      "Epoch 30/150\n",
      "768/768 [==============================] - 0s 100us/step - loss: 0.6959 - accuracy: 0.6758\n",
      "Epoch 31/150\n",
      "768/768 [==============================] - 0s 90us/step - loss: 0.6262 - accuracy: 0.6823\n",
      "Epoch 32/150\n",
      "768/768 [==============================] - 0s 84us/step - loss: 0.6183 - accuracy: 0.6771\n",
      "Epoch 33/150\n",
      "768/768 [==============================] - 0s 87us/step - loss: 0.6310 - accuracy: 0.6927\n",
      "Epoch 34/150\n",
      "768/768 [==============================] - 0s 90us/step - loss: 0.6245 - accuracy: 0.6784\n",
      "Epoch 35/150\n",
      "768/768 [==============================] - 0s 87us/step - loss: 0.6288 - accuracy: 0.6771\n",
      "Epoch 36/150\n",
      "768/768 [==============================] - 0s 88us/step - loss: 0.6157 - accuracy: 0.6862\n",
      "Epoch 37/150\n",
      "768/768 [==============================] - 0s 88us/step - loss: 0.6454 - accuracy: 0.6576\n",
      "Epoch 38/150\n",
      "768/768 [==============================] - 0s 90us/step - loss: 0.6136 - accuracy: 0.6758\n",
      "Epoch 39/150\n",
      "768/768 [==============================] - 0s 84us/step - loss: 0.6221 - accuracy: 0.6732\n",
      "Epoch 40/150\n",
      "768/768 [==============================] - 0s 94us/step - loss: 0.6191 - accuracy: 0.6823\n",
      "Epoch 41/150\n",
      "768/768 [==============================] - 0s 90us/step - loss: 0.6306 - accuracy: 0.6862\n",
      "Epoch 42/150\n",
      "768/768 [==============================] - 0s 92us/step - loss: 0.5926 - accuracy: 0.6979\n",
      "Epoch 43/150\n",
      "768/768 [==============================] - 0s 116us/step - loss: 0.6046 - accuracy: 0.6914\n",
      "Epoch 44/150\n",
      "768/768 [==============================] - 0s 105us/step - loss: 0.5886 - accuracy: 0.7005\n",
      "Epoch 45/150\n",
      "768/768 [==============================] - 0s 99us/step - loss: 0.5987 - accuracy: 0.7135\n",
      "Epoch 46/150\n",
      "768/768 [==============================] - 0s 97us/step - loss: 0.6318 - accuracy: 0.6680\n",
      "Epoch 47/150\n",
      "768/768 [==============================] - 0s 83us/step - loss: 0.6160 - accuracy: 0.7018\n",
      "Epoch 48/150\n",
      "768/768 [==============================] - 0s 99us/step - loss: 0.6049 - accuracy: 0.6979\n",
      "Epoch 49/150\n",
      "768/768 [==============================] - 0s 83us/step - loss: 0.6024 - accuracy: 0.6914\n",
      "Epoch 50/150\n",
      "768/768 [==============================] - 0s 88us/step - loss: 0.5905 - accuracy: 0.6927\n",
      "Epoch 51/150\n",
      "768/768 [==============================] - 0s 83us/step - loss: 0.5751 - accuracy: 0.7174\n",
      "Epoch 52/150\n",
      "768/768 [==============================] - 0s 91us/step - loss: 0.5996 - accuracy: 0.7122\n",
      "Epoch 53/150\n",
      "768/768 [==============================] - 0s 84us/step - loss: 0.5746 - accuracy: 0.7031\n",
      "Epoch 54/150\n",
      "768/768 [==============================] - 0s 101us/step - loss: 0.5851 - accuracy: 0.7096\n",
      "Epoch 55/150\n",
      "768/768 [==============================] - 0s 84us/step - loss: 0.5795 - accuracy: 0.7109\n",
      "Epoch 56/150\n",
      "768/768 [==============================] - 0s 83us/step - loss: 0.5914 - accuracy: 0.6914\n",
      "Epoch 57/150\n",
      "768/768 [==============================] - 0s 88us/step - loss: 0.5742 - accuracy: 0.7188\n",
      "Epoch 58/150\n",
      "768/768 [==============================] - 0s 90us/step - loss: 0.6081 - accuracy: 0.7096\n",
      "Epoch 59/150\n",
      "768/768 [==============================] - 0s 92us/step - loss: 0.5853 - accuracy: 0.7161\n",
      "Epoch 60/150\n",
      "768/768 [==============================] - 0s 83us/step - loss: 0.5870 - accuracy: 0.7083\n",
      "Epoch 61/150\n",
      "768/768 [==============================] - 0s 83us/step - loss: 0.5707 - accuracy: 0.7161\n",
      "Epoch 62/150\n",
      "768/768 [==============================] - 0s 83us/step - loss: 0.5850 - accuracy: 0.7031\n",
      "Epoch 63/150\n",
      "768/768 [==============================] - 0s 84us/step - loss: 0.5783 - accuracy: 0.7057\n",
      "Epoch 64/150\n",
      "768/768 [==============================] - 0s 87us/step - loss: 0.5639 - accuracy: 0.7227\n",
      "Epoch 65/150\n",
      "768/768 [==============================] - 0s 84us/step - loss: 0.5511 - accuracy: 0.7357\n",
      "Epoch 66/150\n",
      "768/768 [==============================] - 0s 86us/step - loss: 0.5841 - accuracy: 0.7070\n",
      "Epoch 67/150\n",
      "768/768 [==============================] - 0s 87us/step - loss: 0.6105 - accuracy: 0.7148\n",
      "Epoch 68/150\n",
      "768/768 [==============================] - 0s 93us/step - loss: 0.5634 - accuracy: 0.7279\n",
      "Epoch 69/150\n",
      "768/768 [==============================] - 0s 78us/step - loss: 0.5622 - accuracy: 0.7266\n",
      "Epoch 70/150\n",
      "768/768 [==============================] - 0s 71us/step - loss: 0.5573 - accuracy: 0.7188\n",
      "Epoch 71/150\n",
      "768/768 [==============================] - 0s 65us/step - loss: 0.5667 - accuracy: 0.7331\n",
      "Epoch 72/150\n",
      "768/768 [==============================] - 0s 70us/step - loss: 0.5773 - accuracy: 0.7174\n",
      "Epoch 73/150\n",
      "768/768 [==============================] - 0s 71us/step - loss: 0.5421 - accuracy: 0.7370\n",
      "Epoch 74/150\n",
      "768/768 [==============================] - 0s 65us/step - loss: 0.5850 - accuracy: 0.7109\n",
      "Epoch 75/150\n",
      "768/768 [==============================] - 0s 66us/step - loss: 0.5483 - accuracy: 0.7370\n",
      "Epoch 76/150\n",
      "768/768 [==============================] - 0s 74us/step - loss: 0.5555 - accuracy: 0.7266\n",
      "Epoch 77/150\n",
      "768/768 [==============================] - 0s 77us/step - loss: 0.5623 - accuracy: 0.7383\n",
      "Epoch 78/150\n"
     ]
    },
    {
     "name": "stdout",
     "output_type": "stream",
     "text": [
      "768/768 [==============================] - 0s 75us/step - loss: 0.5598 - accuracy: 0.7240\n",
      "Epoch 79/150\n",
      "768/768 [==============================] - 0s 81us/step - loss: 0.5631 - accuracy: 0.7227\n",
      "Epoch 80/150\n",
      "768/768 [==============================] - 0s 75us/step - loss: 0.5348 - accuracy: 0.7448\n",
      "Epoch 81/150\n",
      "768/768 [==============================] - 0s 68us/step - loss: 0.5379 - accuracy: 0.7448\n",
      "Epoch 82/150\n",
      "768/768 [==============================] - 0s 75us/step - loss: 0.5358 - accuracy: 0.7461\n",
      "Epoch 83/150\n",
      "768/768 [==============================] - 0s 69us/step - loss: 0.5308 - accuracy: 0.7435\n",
      "Epoch 84/150\n",
      "768/768 [==============================] - 0s 69us/step - loss: 0.5857 - accuracy: 0.7214\n",
      "Epoch 85/150\n",
      "768/768 [==============================] - 0s 75us/step - loss: 0.5395 - accuracy: 0.7487\n",
      "Epoch 86/150\n",
      "768/768 [==============================] - 0s 66us/step - loss: 0.5512 - accuracy: 0.7305\n",
      "Epoch 87/150\n",
      "768/768 [==============================] - 0s 70us/step - loss: 0.5413 - accuracy: 0.7422\n",
      "Epoch 88/150\n",
      "768/768 [==============================] - 0s 75us/step - loss: 0.5537 - accuracy: 0.7357\n",
      "Epoch 89/150\n",
      "768/768 [==============================] - 0s 66us/step - loss: 0.5312 - accuracy: 0.7396\n",
      "Epoch 90/150\n",
      "768/768 [==============================] - 0s 73us/step - loss: 0.5650 - accuracy: 0.7122\n",
      "Epoch 91/150\n",
      "768/768 [==============================] - 0s 75us/step - loss: 0.5299 - accuracy: 0.7474\n",
      "Epoch 92/150\n",
      "768/768 [==============================] - 0s 67us/step - loss: 0.5475 - accuracy: 0.7214\n",
      "Epoch 93/150\n",
      "768/768 [==============================] - 0s 66us/step - loss: 0.5304 - accuracy: 0.7396\n",
      "Epoch 94/150\n",
      "768/768 [==============================] - 0s 73us/step - loss: 0.5372 - accuracy: 0.7305\n",
      "Epoch 95/150\n",
      "768/768 [==============================] - 0s 65us/step - loss: 0.5320 - accuracy: 0.7331\n",
      "Epoch 96/150\n",
      "768/768 [==============================] - 0s 66us/step - loss: 0.5308 - accuracy: 0.7461\n",
      "Epoch 97/150\n",
      "768/768 [==============================] - 0s 65us/step - loss: 0.5375 - accuracy: 0.7279\n",
      "Epoch 98/150\n",
      "768/768 [==============================] - 0s 68us/step - loss: 0.5467 - accuracy: 0.7305\n",
      "Epoch 99/150\n",
      "768/768 [==============================] - 0s 66us/step - loss: 0.5418 - accuracy: 0.7174\n",
      "Epoch 100/150\n",
      "768/768 [==============================] - 0s 74us/step - loss: 0.5144 - accuracy: 0.7318\n",
      "Epoch 101/150\n",
      "768/768 [==============================] - 0s 66us/step - loss: 0.5213 - accuracy: 0.7552\n",
      "Epoch 102/150\n",
      "768/768 [==============================] - 0s 67us/step - loss: 0.5563 - accuracy: 0.7409\n",
      "Epoch 103/150\n",
      "768/768 [==============================] - 0s 69us/step - loss: 0.5106 - accuracy: 0.7565\n",
      "Epoch 104/150\n",
      "768/768 [==============================] - 0s 71us/step - loss: 0.5247 - accuracy: 0.7513\n",
      "Epoch 105/150\n",
      "768/768 [==============================] - 0s 67us/step - loss: 0.5263 - accuracy: 0.7513\n",
      "Epoch 106/150\n",
      "768/768 [==============================] - 0s 68us/step - loss: 0.5061 - accuracy: 0.7526\n",
      "Epoch 107/150\n",
      "768/768 [==============================] - 0s 68us/step - loss: 0.5212 - accuracy: 0.7500\n",
      "Epoch 108/150\n",
      "768/768 [==============================] - 0s 75us/step - loss: 0.5218 - accuracy: 0.7396\n",
      "Epoch 109/150\n",
      "768/768 [==============================] - 0s 73us/step - loss: 0.5041 - accuracy: 0.7370\n",
      "Epoch 110/150\n",
      "768/768 [==============================] - 0s 75us/step - loss: 0.5129 - accuracy: 0.7500\n",
      "Epoch 111/150\n",
      "768/768 [==============================] - 0s 73us/step - loss: 0.5096 - accuracy: 0.7500\n",
      "Epoch 112/150\n",
      "768/768 [==============================] - 0s 74us/step - loss: 0.5037 - accuracy: 0.7682\n",
      "Epoch 113/150\n",
      "768/768 [==============================] - 0s 71us/step - loss: 0.5383 - accuracy: 0.7305\n",
      "Epoch 114/150\n",
      "768/768 [==============================] - 0s 78us/step - loss: 0.5395 - accuracy: 0.7305\n",
      "Epoch 115/150\n",
      "768/768 [==============================] - 0s 84us/step - loss: 0.5170 - accuracy: 0.7357\n",
      "Epoch 116/150\n",
      "768/768 [==============================] - 0s 82us/step - loss: 0.5098 - accuracy: 0.7461\n",
      "Epoch 117/150\n",
      "768/768 [==============================] - 0s 91us/step - loss: 0.5097 - accuracy: 0.7513\n",
      "Epoch 118/150\n",
      "768/768 [==============================] - 0s 73us/step - loss: 0.5489 - accuracy: 0.7318\n",
      "Epoch 119/150\n",
      "768/768 [==============================] - 0s 74us/step - loss: 0.5416 - accuracy: 0.7435\n",
      "Epoch 120/150\n",
      "768/768 [==============================] - 0s 68us/step - loss: 0.5093 - accuracy: 0.7591\n",
      "Epoch 121/150\n",
      "768/768 [==============================] - 0s 74us/step - loss: 0.4972 - accuracy: 0.7487\n",
      "Epoch 122/150\n",
      "768/768 [==============================] - 0s 73us/step - loss: 0.5125 - accuracy: 0.7500\n",
      "Epoch 123/150\n",
      "768/768 [==============================] - 0s 71us/step - loss: 0.5179 - accuracy: 0.7578\n",
      "Epoch 124/150\n",
      "768/768 [==============================] - 0s 127us/step - loss: 0.5202 - accuracy: 0.7500\n",
      "Epoch 125/150\n",
      "768/768 [==============================] - 0s 134us/step - loss: 0.5036 - accuracy: 0.7591\n",
      "Epoch 126/150\n",
      "768/768 [==============================] - 0s 81us/step - loss: 0.5226 - accuracy: 0.7604\n",
      "Epoch 127/150\n",
      "768/768 [==============================] - 0s 69us/step - loss: 0.5436 - accuracy: 0.7422\n",
      "Epoch 128/150\n",
      "768/768 [==============================] - 0s 65us/step - loss: 0.5086 - accuracy: 0.7461\n",
      "Epoch 129/150\n",
      "768/768 [==============================] - 0s 75us/step - loss: 0.5131 - accuracy: 0.7461\n",
      "Epoch 130/150\n",
      "768/768 [==============================] - 0s 106us/step - loss: 0.4957 - accuracy: 0.7669\n",
      "Epoch 131/150\n",
      "768/768 [==============================] - 0s 164us/step - loss: 0.5044 - accuracy: 0.7552\n",
      "Epoch 132/150\n",
      "768/768 [==============================] - 0s 86us/step - loss: 0.5189 - accuracy: 0.7565\n",
      "Epoch 133/150\n",
      "768/768 [==============================] - 0s 88us/step - loss: 0.5152 - accuracy: 0.7565\n",
      "Epoch 134/150\n",
      "768/768 [==============================] - 0s 134us/step - loss: 0.5082 - accuracy: 0.7669\n",
      "Epoch 135/150\n",
      "768/768 [==============================] - 0s 123us/step - loss: 0.5137 - accuracy: 0.7500\n",
      "Epoch 136/150\n",
      "768/768 [==============================] - 0s 75us/step - loss: 0.5169 - accuracy: 0.7357\n",
      "Epoch 137/150\n",
      "768/768 [==============================] - 0s 77us/step - loss: 0.5072 - accuracy: 0.7669\n",
      "Epoch 138/150\n",
      "768/768 [==============================] - 0s 79us/step - loss: 0.4989 - accuracy: 0.7617\n",
      "Epoch 139/150\n",
      "768/768 [==============================] - 0s 68us/step - loss: 0.4986 - accuracy: 0.7630\n",
      "Epoch 140/150\n",
      "768/768 [==============================] - 0s 79us/step - loss: 0.5129 - accuracy: 0.7305\n",
      "Epoch 141/150\n",
      "768/768 [==============================] - 0s 73us/step - loss: 0.5117 - accuracy: 0.7539\n",
      "Epoch 142/150\n",
      "768/768 [==============================] - 0s 126us/step - loss: 0.5123 - accuracy: 0.7617\n",
      "Epoch 143/150\n",
      "768/768 [==============================] - 0s 148us/step - loss: 0.5210 - accuracy: 0.7487\n",
      "Epoch 144/150\n",
      "768/768 [==============================] - 0s 92us/step - loss: 0.5192 - accuracy: 0.7500\n",
      "Epoch 145/150\n",
      "768/768 [==============================] - 0s 81us/step - loss: 0.5032 - accuracy: 0.7669\n",
      "Epoch 146/150\n",
      "768/768 [==============================] - 0s 80us/step - loss: 0.5060 - accuracy: 0.7669\n",
      "Epoch 147/150\n",
      "768/768 [==============================] - 0s 83us/step - loss: 0.4876 - accuracy: 0.7565\n",
      "Epoch 148/150\n",
      "768/768 [==============================] - 0s 74us/step - loss: 0.5025 - accuracy: 0.7526\n",
      "Epoch 149/150\n",
      "768/768 [==============================] - 0s 77us/step - loss: 0.5191 - accuracy: 0.7474\n",
      "Epoch 150/150\n",
      "768/768 [==============================] - 0s 81us/step - loss: 0.5159 - accuracy: 0.7461\n"
     ]
    },
    {
     "data": {
      "text/plain": [
       "<keras.callbacks.callbacks.History at 0x12478c8bc48>"
      ]
     },
     "execution_count": 10,
     "metadata": {},
     "output_type": "execute_result"
    }
   ],
   "source": [
    "model.fit(X, y, epochs=150, batch_size=10, verbose=1)"
   ]
  },
  {
   "cell_type": "markdown",
   "metadata": {},
   "source": [
    "Now we can evaluate the performance of the network on the same dataset. This will only give us an idea of how well we have modeled the dataset (e.g. train accuracy), but no idea of how well the algorithm might perform on new data.\n",
    "The `evaluate()` function will return a list with two values. The first will be the loss of the model on the dataset and the second will be the accuracy of the model on the dataset. We are only interested in reporting the accuracy, so we will ignore the loss value.\n",
    "Neural networks are a stochastic algorithm, meaning that the same algorithm on the same data can train a different model with different skills each time the code is run. You can learn more about this in the post: [Embrace Randomness in Machine Learning](https://machinelearningmastery.com/randomness-in-machine-learning/)"
   ]
  },
  {
   "cell_type": "code",
   "execution_count": 11,
   "metadata": {},
   "outputs": [
    {
     "name": "stdout",
     "output_type": "stream",
     "text": [
      "768/768 [==============================] - 0s 40us/step\n",
      "Accuracy: 74.48\n"
     ]
    }
   ],
   "source": [
    "_, accuracy = model.evaluate(X, y)\n",
    "print('Accuracy: %.2f' % (accuracy*100))"
   ]
  },
  {
   "cell_type": "markdown",
   "metadata": {},
   "source": [
    "Now we can make class predictions with the model. \n",
    "Here we generate predictions on the training dataset, pretending it is a new dataset we have not seen before. Normally we would need to use other than the training data. We will get back to this.\n"
   ]
  },
  {
   "cell_type": "code",
   "execution_count": 12,
   "metadata": {},
   "outputs": [],
   "source": [
    "predictions = model.predict(X)"
   ]
  },
  {
   "cell_type": "code",
   "execution_count": 13,
   "metadata": {},
   "outputs": [
    {
     "name": "stdout",
     "output_type": "stream",
     "text": [
      "<class 'numpy.ndarray'>\n",
      "The first ten values are:\n",
      "[[0.44975743]\n",
      " [0.06865966]\n",
      " [0.760602  ]\n",
      " [0.0451932 ]\n",
      " [0.67559946]\n",
      " [0.12932447]\n",
      " [0.12144193]\n",
      " [0.485254  ]\n",
      " [0.39329165]\n",
      " [0.03796235]]\n"
     ]
    }
   ],
   "source": [
    "print(type(predictions))\n",
    "print(\"The first ten values are:\")\n",
    "print(predictions[0:10,])"
   ]
  },
  {
   "cell_type": "markdown",
   "metadata": {},
   "source": [
    "Note that we are using a sigmoid activation function on the output layer, so the predictions will be a probability in the range between 0 and 1. We can easily convert them into a crisp binary prediction for this classification task by rounding them."
   ]
  },
  {
   "cell_type": "code",
   "execution_count": 14,
   "metadata": {},
   "outputs": [
    {
     "name": "stdout",
     "output_type": "stream",
     "text": [
      "<class 'list'>\n",
      "The first ten values are:\n",
      "[0.0, 0.0, 1.0, 0.0, 1.0, 0.0, 0.0, 0.0, 0.0, 0.0]\n"
     ]
    }
   ],
   "source": [
    "rounded = [round(x[0]) for x in predictions]\n",
    "print(type(rounded))\n",
    "print(\"The first ten values are:\")\n",
    "print(rounded[0:10])"
   ]
  },
  {
   "cell_type": "markdown",
   "metadata": {},
   "source": [
    "Alternatively, we can call the predict_classes() function on the model to predict crisp classes directly:"
   ]
  },
  {
   "cell_type": "code",
   "execution_count": 15,
   "metadata": {},
   "outputs": [],
   "source": [
    "predictions = model.predict_classes(X)"
   ]
  },
  {
   "cell_type": "markdown",
   "metadata": {},
   "source": [
    "Summarize the first 10 cases.\n",
    "`%s` acts a placeholder for a string while `%d` acts as a placeholder for a number."
   ]
  },
  {
   "cell_type": "code",
   "execution_count": 16,
   "metadata": {
    "scrolled": true
   },
   "outputs": [
    {
     "name": "stdout",
     "output_type": "stream",
     "text": [
      "[6.0, 148.0, 72.0, 35.0, 0.0, 33.6, 0.627, 50.0] => 0 (expected 1)\n",
      "[1.0, 85.0, 66.0, 29.0, 0.0, 26.6, 0.351, 31.0] => 0 (expected 0)\n",
      "[8.0, 183.0, 64.0, 0.0, 0.0, 23.3, 0.672, 32.0] => 1 (expected 1)\n",
      "[1.0, 89.0, 66.0, 23.0, 94.0, 28.1, 0.167, 21.0] => 0 (expected 0)\n",
      "[0.0, 137.0, 40.0, 35.0, 168.0, 43.1, 2.288, 33.0] => 1 (expected 1)\n",
      "[5.0, 116.0, 74.0, 0.0, 0.0, 25.6, 0.201, 30.0] => 0 (expected 0)\n",
      "[3.0, 78.0, 50.0, 32.0, 88.0, 31.0, 0.248, 26.0] => 0 (expected 1)\n",
      "[10.0, 115.0, 0.0, 0.0, 0.0, 35.3, 0.134, 29.0] => 0 (expected 0)\n",
      "[2.0, 197.0, 70.0, 45.0, 543.0, 30.5, 0.158, 53.0] => 0 (expected 1)\n",
      "[8.0, 125.0, 96.0, 0.0, 0.0, 0.0, 0.232, 54.0] => 0 (expected 1)\n"
     ]
    }
   ],
   "source": [
    "for i in range(10):\n",
    "\tprint('%s => %d (expected %d)' % (X[i].tolist(), predictions[i], y[i]))"
   ]
  },
  {
   "cell_type": "markdown",
   "metadata": {},
   "source": [
    "That is it for now."
   ]
  }
 ],
 "metadata": {
  "kernelspec": {
   "display_name": "Python 3",
   "language": "python",
   "name": "python3"
  },
  "language_info": {
   "codemirror_mode": {
    "name": "ipython",
    "version": 3
   },
   "file_extension": ".py",
   "mimetype": "text/x-python",
   "name": "python",
   "nbconvert_exporter": "python",
   "pygments_lexer": "ipython3",
   "version": "3.7.4"
  }
 },
 "nbformat": 4,
 "nbformat_minor": 4
}
